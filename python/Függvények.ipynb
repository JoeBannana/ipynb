{
  "nbformat": 4,
  "nbformat_minor": 0,
  "metadata": {
    "colab": {
      "name": "Függvények.ipynb",
      "provenance": [],
      "collapsed_sections": [],
      "authorship_tag": "ABX9TyNhl39My8plXPq7Op/yHZwr",
      "include_colab_link": true
    },
    "kernelspec": {
      "name": "python3",
      "display_name": "Python 3"
    },
    "language_info": {
      "name": "python"
    }
  },
  "cells": [
    {
      "cell_type": "markdown",
      "metadata": {
        "id": "view-in-github",
        "colab_type": "text"
      },
      "source": [
        "<a href=\"https://colab.research.google.com/github/JoeBannana/ipynb/blob/main/python/F%C3%BCggv%C3%A9nyek.ipynb\" target=\"_parent\"><img src=\"https://colab.research.google.com/assets/colab-badge.svg\" alt=\"Open In Colab\"/></a>"
      ]
    },
    {
      "cell_type": "markdown",
      "source": [
        "# Függvények\n",
        "\n",
        "Függvények működése  \n",
        "Input és Outputok be és ki csomagolása"
      ],
      "metadata": {
        "id": "QMQxo2MsIY9R"
      }
    },
    {
      "cell_type": "code",
      "execution_count": null,
      "metadata": {
        "colab": {
          "base_uri": "https://localhost:8080/"
        },
        "id": "M4D6bkhJIRNh",
        "outputId": "0497be10-e4f0-4ea5-cf46-0d08bf19b0fe"
      },
      "outputs": [
        {
          "output_type": "stream",
          "name": "stdout",
          "text": [
            "---====Paraméterek nélkül===---\n",
            "argumentum1: A1\n",
            "argumentum2: A2\n",
            "argumentum3: A3\n",
            "egyebek:  ()\n",
            "egyebek2:  {}\n",
            "---====Lista beküldése és szétcsomagolása kevesebb elemmel mint amit vár===---\n",
            "argumentum1: B1\n",
            "argumentum2: B2\n",
            "argumentum3: A3\n",
            "egyebek:  ()\n",
            "egyebek2:  {}\n",
            "---====Lista beküldése és szétcsomagolása több elemmel mint amit vár===---\n",
            "argumentum1: B1\n",
            "argumentum2: B2\n",
            "argumentum3: B3\n",
            "egyebek:  ('B4', 'B5')\n",
            "egyebek2:  {}\n",
            "---====Szótár kulcsainak szétcsomagolása===---\n",
            "argumentum1: argumentum2\n",
            "argumentum2: argumentum3\n",
            "argumentum3: argumentum4\n",
            "egyebek:  ('argumentum5',)\n",
            "egyebek2:  {}\n",
            "---====Szótár kulcs értékpárjaira szétcsomagolva való beküldése===---\n",
            "argumentum1: A1\n",
            "argumentum2: S2\n",
            "argumentum3: S3\n",
            "egyebek:  ()\n",
            "egyebek2:  {'argumentum4': 'S4', 'argumentum5': 'S5'}\n",
            "---====A függvény összetett input és output paraméterrekkel===---\n",
            "argumentum1: ('B1', 'B2')\n",
            "argumentum2: B1\n",
            "argumentum3: B2\n",
            "egyebek:  ('B3', 'B4', 'B5')\n",
            "egyebek2:  {'argumentum11': 'S11', 'argumentum12': 'S12', 'argumentum13': 'S13'}\n",
            "---====A függvény összevissza adatokat fog kapni===---\n",
            "argumentum1: argumentum1\n",
            "argumentum2: argumentum2\n",
            "argumentum3: argumentum3\n",
            "egyebek:  ('B1', 'B2', 'B1', 'B2', 'B3', 'B4', 'B5')\n",
            "egyebek2:  {'argumentum11': 'S11', 'argumentum12': 'S12', 'argumentum13': 'S13'}\n"
          ]
        }
      ],
      "source": [
        "def fuggveny(neve, argumentum1 = \"A1\", argumentum2 = \"A2\", argumentum3 = \"A3\", *egyebek, **egyebek2):     #* becsomagol\n",
        "        #Az argumentumok lehetnek: \n",
        "            #Standard argumentumok\n",
        "            #Positional arguments(*args)\n",
        "            #Keyword arguments(**kwargs)\n",
        "  print(f\"---===={neve}===---\")\n",
        "  print(\"argumentum1:\", argumentum1)\n",
        "  print(\"argumentum2:\", argumentum2)\n",
        "  print(\"argumentum3:\", argumentum3)\n",
        "  print(\"egyebek: \", egyebek)\n",
        "  print(\"egyebek2: \", egyebek2)\n",
        "fuggveny(\"Paraméterek nélkül\")          #majdnem paraméterek nélkül\n",
        "lista = ('B1', \"B2\")\n",
        "fuggveny(\"Lista beküldése és szétcsomagolása kevesebb elemmel mint amit vár\", *lista)    #* szétcsomagolja\n",
        "lista2 = ('B1', \"B2\", \"B3\", \"B4\", \"B5\")\n",
        "fuggveny(\"Lista beküldése és szétcsomagolása több elemmel mint amit vár\", *lista2)    #* szétcsomagolja\n",
        "\n",
        "szotar = {\"argumentum2\" : \"S2\", \"argumentum3\" : \"S3\", \"argumentum4\" : \"S4\", \"argumentum5\" : \"S5\"}\n",
        "szotar1 = {\"argumentum1\" : \"S1\", \"argumentum2\" : \"S2\", \"argumentum3\" : \"S3\"}\n",
        "szotar2 = {\"argumentum11\" : \"S11\", \"argumentum12\" : \"S12\", \"argumentum13\" : \"S13\"}\n",
        "fuggveny(\"Szótár kulcsainak szétcsomagolása\", *szotar)    #* szétcsomagolja csak a kulcsokat\n",
        "fuggveny(\"Szótár kulcs értékpárjaira szétcsomagolva való beküldése\", **szotar)    #** szétcsomagolja kulcs érték párokat\n",
        "\n",
        "#függvény összetett input és output paraméterrekkel\n",
        "fuggveny(\"A függvény összetett input és output paraméterrekkel\", lista, *lista2, **szotar2)\n",
        "\n",
        "#kevert sorrendre érzékenynek tűnik \n",
        "fuggveny(\"A függvény összevissza adatokat fog kapni\", *szotar1, *lista, *lista2, **szotar2)\n",
        "\n",
        "# Ennél bonyolultabb input esetén eltörik a függvény\n",
        "    # A kulcs párok csak a végén helyezkedhetnek el \n",
        "    # A névvel definiált ált argumantumok ha már az elején kapnak inputon értéket \n",
        "    # utólag hibához vezet ha később kulcsal is megvannak nevezve ????? elvondolkodni\n",
        "\n",
        "    "
      ]
    },
    {
      "cell_type": "code",
      "source": [
        ""
      ],
      "metadata": {
        "id": "_KJgVcqdL1yY"
      },
      "execution_count": null,
      "outputs": []
    }
  ]
}